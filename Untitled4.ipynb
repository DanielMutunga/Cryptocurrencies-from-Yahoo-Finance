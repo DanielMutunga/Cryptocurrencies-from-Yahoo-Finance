{
 "cells": [
  {
   "cell_type": "markdown",
   "id": "4cd9f40d-e9c9-459f-90d9-b5f173459584",
   "metadata": {},
   "source": [
    "### In this task, I am going to scrap data from Yahoo Finace website which contains data about cryptocurrencies.\n",
    "The webite url is \n",
    "```\n",
    "```"
   ]
  },
  {
   "cell_type": "code",
   "execution_count": 66,
   "id": "e6ade15d-acfc-4e80-921a-d4e29a0c82b6",
   "metadata": {},
   "outputs": [],
   "source": [
    "#Import the libraries needed for the task\n",
    "from bs4 import BeautifulSoup\n",
    "import requests\n",
    "import pandas as pd"
   ]
  },
  {
   "cell_type": "code",
   "execution_count": 67,
   "id": "916a5bcb-c976-48ae-9a36-31b6bb7601d5",
   "metadata": {},
   "outputs": [],
   "source": [
    "#Pass the website URL via a variable called url\n",
    "url = 'https://finance.yahoo.com/crypto'"
   ]
  },
  {
   "cell_type": "code",
   "execution_count": 68,
   "id": "8b74e09e-5244-4c5e-8b15-1237d1a3efa9",
   "metadata": {},
   "outputs": [],
   "source": [
    "#Check Whether the website is avilable for scraping. You should get response 200 for available website.\n",
    "website = requests.get(url)"
   ]
  },
  {
   "cell_type": "code",
   "execution_count": 69,
   "id": "8df4087e-4843-46a7-a085-5544b1aabc5c",
   "metadata": {},
   "outputs": [],
   "source": [
    "#Check the website html contents\n",
    "soup = BeautifulSoup(website.text,'html')"
   ]
  },
  {
   "cell_type": "code",
   "execution_count": 70,
   "id": "6bd3a467-fb80-43fa-943c-2ccadb5cb186",
   "metadata": {},
   "outputs": [],
   "source": [
    "#Get the appropriate box where the table is located.\n",
    "box = soup.find(class_ = 'Ta(start) Bxz(bb) Px(20px) Pt(20px) Maw($newGridWidth) Bgc($lv2BgColor) Mx(a)')"
   ]
  },
  {
   "cell_type": "code",
   "execution_count": 71,
   "id": "6819df74-00d7-49d4-92f0-20cbbaf9deb2",
   "metadata": {},
   "outputs": [],
   "source": [
    "#Get the table headers. they share a common css selector called th\n",
    "headers = box.find_all('th')"
   ]
  },
  {
   "cell_type": "code",
   "execution_count": 72,
   "id": "8b168129-c852-4e44-bf90-ab8eb571d1b1",
   "metadata": {},
   "outputs": [],
   "source": [
    "#Convert the table headers into a list using for loop\n",
    "Table_Headers = [i.text.strip() for i in headers]"
   ]
  },
  {
   "cell_type": "code",
   "execution_count": 73,
   "id": "3e284558-20f1-40c9-9462-0667df08cc77",
   "metadata": {},
   "outputs": [],
   "source": [
    "#We trim the last two columns because we do not need them for this task.\n",
    "nth = Table_Headers[:10]\n",
    "df = pd.DataFrame(columns = nth)"
   ]
  },
  {
   "cell_type": "code",
   "execution_count": 74,
   "id": "fd46d61f-c50d-4e24-8e39-b91dbc4de2d2",
   "metadata": {},
   "outputs": [],
   "source": [
    "#We find the table rows which contains our data. They share a common css selector called tr\n",
    "rows = box.find_all('tr')"
   ]
  },
  {
   "cell_type": "code",
   "execution_count": 75,
   "id": "625d20c4-723f-49bc-9d6c-ab61eb22f7fd",
   "metadata": {},
   "outputs": [],
   "source": [
    "#Using for loop, we fill our table with data.\n",
    "for i in rows[1:]:\n",
    "    rowdata = i.find_all('td')\n",
    "    final_data = [j.text for j in rowdata]\n",
    "    trimmed = final_data[:10]\n",
    "\n",
    "    length = len(df)\n",
    "    df.loc[length]=trimmed\n",
    "    df.to_csv('final_cryptos.csv',index=False)\n",
    "    "
   ]
  },
  {
   "cell_type": "code",
   "execution_count": 76,
   "id": "23883a04-1953-4141-8baf-ffb3e1a6a4e2",
   "metadata": {},
   "outputs": [
    {
     "name": "stdout",
     "output_type": "stream",
     "text": [
      "          Symbol                 Name Price (Intraday)       Change % Change  \\\n",
      "0        BTC-USD          Bitcoin USD        42,394.21    -1,320.11   -3.02%   \n",
      "1        ETH-USD         Ethereum USD         2,246.07       -90.47   -3.87%   \n",
      "2       USDT-USD      Tether USDt USD           1.0001      -0.0002   -0.02%   \n",
      "3        BNB-USD              BNB USD           234.81        -4.35   -1.82%   \n",
      "4        XRP-USD              XRP USD         0.625074    -0.029571   -4.52%   \n",
      "5        SOL-USD           Solana USD            69.50        -2.36   -3.28%   \n",
      "6       USDC-USD         USD Coin USD           1.0000      +0.0000   +0.00%   \n",
      "7      STETH-USD  Lido Staked ETH USD         2,249.32       -81.35   -3.49%   \n",
      "8        ADA-USD          Cardano USD         0.556021    -0.031131   -5.30%   \n",
      "9       DOGE-USD         Dogecoin USD         0.098941    +0.000945   +0.96%   \n",
      "10      AVAX-USD        Avalanche USD            36.37        +4.23  +13.15%   \n",
      "11      WTRX-USD     Wrapped TRON USD         0.106090    -0.001103   -1.03%   \n",
      "12       TRX-USD             TRON USD         0.105470    -0.001763   -1.64%   \n",
      "13       DOT-USD         Polkadot USD           6.7102      -0.3540   -5.01%   \n",
      "14      LINK-USD        Chainlink USD            15.10        -0.88   -5.48%   \n",
      "15     MATIC-USD          Polygon USD         0.855684    -0.035573   -3.99%   \n",
      "16  TON11419-USD          Toncoin USD           2.2129      -0.1077   -4.64%   \n",
      "17      WBTC-USD  Wrapped Bitcoin USD        42,289.04    -1,326.25   -3.04%   \n",
      "18      SHIB-USD        Shiba Inu USD       0.00000972  -0.00000028   -2.82%   \n",
      "19       LTC-USD         Litecoin USD            73.42        -4.48   -5.75%   \n",
      "20       DAI-USD              Dai USD           1.0003      +0.0005   +0.05%   \n",
      "21      WEOS-USD      Wrapped EOS USD           4.2874      +0.0804   +1.91%   \n",
      "22       BCH-USD     Bitcoin Cash USD           234.48       -13.46   -5.43%   \n",
      "23      ATOM-USD           Cosmos USD           9.9738      -0.2818   -2.75%   \n",
      "24   UNI7083-USD          Uniswap USD           6.2679      -0.3084   -4.69%   \n",
      "\n",
      "   Market Cap Volume in Currency (Since 0:00 UTC) Volume in Currency (24Hr)  \\\n",
      "0    829.519B                              26.97B                    26.97B   \n",
      "1    270.012B                             12.972B                   12.972B   \n",
      "2     90.556B                             54.086B                   54.086B   \n",
      "3      35.62B                            832.904M                  832.904M   \n",
      "4     33.727B                              1.832B                    1.832B   \n",
      "5     29.624B                              2.909B                    2.909B   \n",
      "6     24.424B                              6.161B                    6.161B   \n",
      "7     20.783B                             46.025M                   46.025M   \n",
      "8     19.643B                              1.243B                    1.243B   \n",
      "9     14.068B                              1.608B                    1.608B   \n",
      "10    13.302B                              2.639B                    2.639B   \n",
      "11     9.385B                              1.542M                    1.542M   \n",
      "12      9.33B                            320.053M                  320.053M   \n",
      "13      8.42B                            474.277M                  474.277M   \n",
      "14     8.407B                            933.632M                  933.632M   \n",
      "15     7.943B                            693.009M                  693.009M   \n",
      "16     7.645B                              62.02M                    62.02M   \n",
      "17     6.548B                            212.189M                  212.189M   \n",
      "18     5.731B                            381.695M                  381.695M   \n",
      "19     5.431B                            447.096M                  447.096M   \n",
      "20      5.35B                            283.581M                  283.581M   \n",
      "21     4.763B                                  42                        42   \n",
      "22     4.592B                            237.712M                  237.712M   \n",
      "23     3.775B                            206.041M                  206.041M   \n",
      "24     3.687B                            182.468M                  182.468M   \n",
      "\n",
      "   Total Volume All Currencies (24Hr) Circulating Supply  \n",
      "0                              26.97B            19.567M  \n",
      "1                             12.972B           120.216M  \n",
      "2                             54.086B            90.545B  \n",
      "3                            832.904M           151.697M  \n",
      "4                              1.832B            53.957B  \n",
      "5                              2.909B           426.248M  \n",
      "6                              6.161B            24.423B  \n",
      "7                             46.025M              9.24M  \n",
      "8                              1.243B            35.328B  \n",
      "9                              1.608B           142.188B  \n",
      "10                             2.639B           365.755M  \n",
      "11                             1.542M            88.459B  \n",
      "12                           320.053M            88.459B  \n",
      "13                           474.277M             1.255B  \n",
      "14                           933.632M            556.85M  \n",
      "15                           693.009M             9.283B  \n",
      "16                             62.02M             3.455B  \n",
      "17                           212.189M            154,844  \n",
      "18                           381.695M           589.347T  \n",
      "19                           447.096M            73.969M  \n",
      "20                           283.581M             5.348B  \n",
      "21                                 42             1.111B  \n",
      "22                           237.712M            19.583M  \n",
      "23                           206.041M           378.525M  \n",
      "24                           182.468M           588.187M  \n"
     ]
    }
   ],
   "source": [
    "#Our final data looks like this\n",
    "print(df)"
   ]
  },
  {
   "cell_type": "code",
   "execution_count": null,
   "id": "c180332c-e33a-46a6-bf04-044609560ebf",
   "metadata": {},
   "outputs": [],
   "source": []
  }
 ],
 "metadata": {
  "kernelspec": {
   "display_name": "Python 3 (ipykernel)",
   "language": "python",
   "name": "python3"
  },
  "language_info": {
   "codemirror_mode": {
    "name": "ipython",
    "version": 3
   },
   "file_extension": ".py",
   "mimetype": "text/x-python",
   "name": "python",
   "nbconvert_exporter": "python",
   "pygments_lexer": "ipython3",
   "version": "3.11.5"
  }
 },
 "nbformat": 4,
 "nbformat_minor": 5
}
